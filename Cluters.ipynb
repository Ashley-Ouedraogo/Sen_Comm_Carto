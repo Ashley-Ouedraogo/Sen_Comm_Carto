{
 "cells": [
  {
   "cell_type": "code",
   "execution_count": 1,
   "id": "norman-lotus",
   "metadata": {},
   "outputs": [],
   "source": [
    "#Libraries and variables\n",
    "from ipyleaflet import (MarkerCluster,Polyline,AntPath,Popup,Map,DrawControl,Marker,WMSLayer,\n",
    "                        basemaps, basemap_to_tiles,LocalTileLayer,Icon,MagnifyingGlass,AwesomeIcon,DivIcon)\n",
    "from ipywidgets import HTML\n",
    "from geopy import Nominatim\n",
    "from folium.plugins import MarkerCluster\n",
    "\n",
    "center = [14.693056,-17.456714]\n",
    "Touba =[14.872681,-15.878448]\n",
    "Touba2=[14.854983,-15.874844]\n",
    "Thiès =[14.800553,-16.927643]\n",
    "Dakar_Plateau=[14.733936,-17.461395]\n",
    "Mbour =[14.427698,-16.969986]\n",
    "Orleans=[47.900386,1.973877]\n",
    "zoom = 13"
   ]
  },
  {
   "cell_type": "code",
   "execution_count": 2,
   "id": "macro-entrepreneur",
   "metadata": {},
   "outputs": [
    {
     "name": "stdout",
     "output_type": "stream",
     "text": [
      "Latitude = 14.791461, Longitude = -16.925605\n"
     ]
    }
   ],
   "source": [
    "\n",
    "from  geopy import Nominatim\n",
    "import pandas as pd\n",
    "locator = Nominatim(user_agent='myGeocoder')\n",
    "location = locator.geocode(\"Thiès, THIES, Sénégal\")\n",
    "print(\"Latitude = {}, Longitude = {}\".format(location.latitude, location.longitude))"
   ]
  },
  {
   "cell_type": "code",
   "execution_count": 3,
   "id": "smoking-expansion",
   "metadata": {},
   "outputs": [],
   "source": [
    "Thiès2=[location.latitude, location.longitude]"
   ]
  },
  {
   "cell_type": "code",
   "execution_count": 4,
   "id": "worst-trouble",
   "metadata": {},
   "outputs": [
    {
     "data": {
      "text/plain": [
       "[14.791461, -16.925605]"
      ]
     },
     "execution_count": 4,
     "metadata": {},
     "output_type": "execute_result"
    }
   ],
   "source": [
    "Thiès2"
   ]
  },
  {
   "cell_type": "code",
   "execution_count": 5,
   "id": "weekly-potential",
   "metadata": {},
   "outputs": [],
   "source": [
    "df = pd.read_excel(\"commune.xlsx\")\n",
    "#df.columns"
   ]
  },
  {
   "cell_type": "code",
   "execution_count": 11,
   "id": "historic-display",
   "metadata": {},
   "outputs": [
    {
     "data": {
      "text/html": [
       "<div>\n",
       "<style scoped>\n",
       "    .dataframe tbody tr th:only-of-type {\n",
       "        vertical-align: middle;\n",
       "    }\n",
       "\n",
       "    .dataframe tbody tr th {\n",
       "        vertical-align: top;\n",
       "    }\n",
       "\n",
       "    .dataframe thead th {\n",
       "        text-align: right;\n",
       "    }\n",
       "</style>\n",
       "<table border=\"1\" class=\"dataframe\">\n",
       "  <thead>\n",
       "    <tr style=\"text-align: right;\">\n",
       "      <th></th>\n",
       "      <th>name_4</th>\n",
       "      <th>name_1</th>\n",
       "      <th>name_2</th>\n",
       "      <th>name_0</th>\n",
       "    </tr>\n",
       "  </thead>\n",
       "  <tbody>\n",
       "    <tr>\n",
       "      <th>0</th>\n",
       "      <td>Mermoz/ Sacre -Coeur</td>\n",
       "      <td>Dakar</td>\n",
       "      <td>Dakar</td>\n",
       "      <td>Senegal</td>\n",
       "    </tr>\n",
       "    <tr>\n",
       "      <th>1</th>\n",
       "      <td>Ile de Ngor</td>\n",
       "      <td>Dakar</td>\n",
       "      <td>Dakar</td>\n",
       "      <td>Senegal</td>\n",
       "    </tr>\n",
       "    <tr>\n",
       "      <th>2</th>\n",
       "      <td>Ouakam</td>\n",
       "      <td>Dakar</td>\n",
       "      <td>Dakar</td>\n",
       "      <td>Senegal</td>\n",
       "    </tr>\n",
       "    <tr>\n",
       "      <th>3</th>\n",
       "      <td>Yoff</td>\n",
       "      <td>Dakar</td>\n",
       "      <td>Dakar</td>\n",
       "      <td>Senegal</td>\n",
       "    </tr>\n",
       "    <tr>\n",
       "      <th>4</th>\n",
       "      <td>Les Madeleines</td>\n",
       "      <td>Dakar</td>\n",
       "      <td>Dakar</td>\n",
       "      <td>Senegal</td>\n",
       "    </tr>\n",
       "    <tr>\n",
       "      <th>5</th>\n",
       "      <td>Fann</td>\n",
       "      <td>Dakar</td>\n",
       "      <td>Dakar</td>\n",
       "      <td>Senegal</td>\n",
       "    </tr>\n",
       "    <tr>\n",
       "      <th>6</th>\n",
       "      <td>Gorée</td>\n",
       "      <td>Dakar</td>\n",
       "      <td>Dakar</td>\n",
       "      <td>Senegal</td>\n",
       "    </tr>\n",
       "    <tr>\n",
       "      <th>7</th>\n",
       "      <td>Gueule Tapee/Colobane/Fass</td>\n",
       "      <td>Dakar</td>\n",
       "      <td>Dakar</td>\n",
       "      <td>Senegal</td>\n",
       "    </tr>\n",
       "    <tr>\n",
       "      <th>8</th>\n",
       "      <td>Medina</td>\n",
       "      <td>Dakar</td>\n",
       "      <td>Dakar</td>\n",
       "      <td>Senegal</td>\n",
       "    </tr>\n",
       "    <tr>\n",
       "      <th>9</th>\n",
       "      <td>Dakar Plateau</td>\n",
       "      <td>Dakar</td>\n",
       "      <td>Dakar</td>\n",
       "      <td>Senegal</td>\n",
       "    </tr>\n",
       "  </tbody>\n",
       "</table>\n",
       "</div>"
      ],
      "text/plain": [
       "                       name_4 name_1 name_2   name_0\n",
       "0        Mermoz/ Sacre -Coeur  Dakar  Dakar  Senegal\n",
       "1                 Ile de Ngor  Dakar  Dakar  Senegal\n",
       "2                      Ouakam  Dakar  Dakar  Senegal\n",
       "3                        Yoff  Dakar  Dakar  Senegal\n",
       "4              Les Madeleines  Dakar  Dakar  Senegal\n",
       "5                        Fann  Dakar  Dakar  Senegal\n",
       "6                       Gorée  Dakar  Dakar  Senegal\n",
       "7  Gueule Tapee/Colobane/Fass  Dakar  Dakar  Senegal\n",
       "8                      Medina  Dakar  Dakar  Senegal\n",
       "9               Dakar Plateau  Dakar  Dakar  Senegal"
      ]
     },
     "execution_count": 11,
     "metadata": {},
     "output_type": "execute_result"
    }
   ],
   "source": [
    "df.head(10)"
   ]
  },
  {
   "cell_type": "code",
   "execution_count": 12,
   "id": "supreme-bennett",
   "metadata": {},
   "outputs": [],
   "source": [
    "from geopy.extra.rate_limiter import RateLimiter\n",
    "\n",
    "# 1 - conveneint function to delay between geocoding calls\n",
    "geocode = RateLimiter(locator.geocode, min_delay_seconds=1)"
   ]
  },
  {
   "cell_type": "code",
   "execution_count": 13,
   "id": "sophisticated-nightlife",
   "metadata": {},
   "outputs": [],
   "source": [
    "# 2- - create location column\n",
    "df['location'] = df['name_4'].apply(geocode)"
   ]
  },
  {
   "cell_type": "code",
   "execution_count": 14,
   "id": "interpreted-liberia",
   "metadata": {},
   "outputs": [],
   "source": [
    "# 3 - create longitude, laatitude and altitude from location column (returns tuple)\n",
    "df['point'] = df['location'].apply(lambda loc: tuple(loc.point) if loc else None)\n",
    "# 4 - split point column into latitude, longitude and altitude columns\n",
    "df[['latitude', 'longitude', 'altitude']] = pd.DataFrame(df['point'].tolist(), index=df.index)"
   ]
  },
  {
   "cell_type": "code",
   "execution_count": 7,
   "id": "wrong-dylan",
   "metadata": {},
   "outputs": [
    {
     "ename": "NameError",
     "evalue": "name 'folium' is not defined",
     "output_type": "error",
     "traceback": [
      "\u001b[1;31m---------------------------------------------------------------------------\u001b[0m",
      "\u001b[1;31mNameError\u001b[0m                                 Traceback (most recent call last)",
      "\u001b[1;32m<ipython-input-7-2248a7ba825d>\u001b[0m in \u001b[0;36m<module>\u001b[1;34m\u001b[0m\n\u001b[0;32m      1\u001b[0m \u001b[1;32mfrom\u001b[0m \u001b[0mfolium\u001b[0m\u001b[1;33m.\u001b[0m\u001b[0mplugins\u001b[0m \u001b[1;32mimport\u001b[0m \u001b[0mMarkerCluster\u001b[0m\u001b[1;33m\u001b[0m\u001b[1;33m\u001b[0m\u001b[0m\n\u001b[0;32m      2\u001b[0m \u001b[1;33m\u001b[0m\u001b[0m\n\u001b[1;32m----> 3\u001b[1;33m map1 = folium.Map(\n\u001b[0m\u001b[0;32m      4\u001b[0m     \u001b[0mlocation\u001b[0m\u001b[1;33m=\u001b[0m\u001b[1;33m[\u001b[0m\u001b[1;36m14.693056\u001b[0m\u001b[1;33m,\u001b[0m\u001b[1;33m-\u001b[0m\u001b[1;36m17.456714\u001b[0m\u001b[1;33m]\u001b[0m\u001b[1;33m,\u001b[0m\u001b[1;33m\u001b[0m\u001b[1;33m\u001b[0m\u001b[0m\n\u001b[0;32m      5\u001b[0m     \u001b[0mtiles\u001b[0m\u001b[1;33m=\u001b[0m\u001b[1;34m'cartodbpositron'\u001b[0m\u001b[1;33m,\u001b[0m\u001b[1;33m\u001b[0m\u001b[1;33m\u001b[0m\u001b[0m\n",
      "\u001b[1;31mNameError\u001b[0m: name 'folium' is not defined"
     ]
    }
   ],
   "source": [
    "\n",
    "from folium.plugins import MarkerCluster\n",
    "\n",
    "map1 = folium.Map(\n",
    "    location=[14.693056,-17.456714],\n",
    "    tiles='cartodbpositron',\n",
    "    zoom_start=12,\n",
    ")\n",
    "marker_cluster = folium.MarkerCluster(\"mk\").add_to(map1)\n",
    "\n",
    "\n",
    "\n",
    "df.apply(lambda row:folium.Marker(location=[row[\"latitude\"], row[\"longitude\"]]).add_to(map1), axis=1)\n",
    "\n",
    "\n",
    "\n",
    "map1\n"
   ]
  },
  {
   "cell_type": "code",
   "execution_count": null,
   "id": "equivalent-psychiatry",
   "metadata": {},
   "outputs": [],
   "source": []
  }
 ],
 "metadata": {
  "kernelspec": {
   "display_name": "Python 3",
   "language": "python",
   "name": "python3"
  },
  "language_info": {
   "codemirror_mode": {
    "name": "ipython",
    "version": 3
   },
   "file_extension": ".py",
   "mimetype": "text/x-python",
   "name": "python",
   "nbconvert_exporter": "python",
   "pygments_lexer": "ipython3",
   "version": "3.8.8"
  }
 },
 "nbformat": 4,
 "nbformat_minor": 5
}
